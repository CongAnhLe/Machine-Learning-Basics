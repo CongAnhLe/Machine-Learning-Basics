{
 "cells": [
  {
   "cell_type": "markdown",
   "metadata": {},
   "source": [
    "Phần này, chúng ta sẽ cùng đi qua các phần cơ bản của đại số tuyến tính."
   ]
  },
  {
   "cell_type": "markdown",
   "metadata": {},
   "source": [
    "## Số vô hướng"
   ]
  },
  {
   "cell_type": "markdown",
   "metadata": {},
   "source": [
    "Chúng ta gọi những số riêng lẻ là số vô hướng. Chúng tôi sẽ tuân theo quy ước ký hiệu các biến vô hướng là các chữ cái viết thường (vd: x, y. z).\n",
    "Một số vô hướng được biểu diễn bằng một tensor chỉ có một một phần tử. Trong phần dưới đây, chúng tôi khởi tạo hai số vô hướng và thực hiện những phép tính toán cơ bản: cộng, trừ, nhân, chia, lũy thừa."
   ]
  },
  {
   "cell_type": "code",
   "execution_count": 2,
   "metadata": {},
   "outputs": [
    {
     "data": {
      "text/plain": [
       "(5.0, 1.0, 6.0, 1.5, 9.0)"
      ]
     },
     "execution_count": 2,
     "metadata": {},
     "output_type": "execute_result"
    }
   ],
   "source": [
    "import numpy as np\n",
    "\n",
    "x = np.array(3.0)\n",
    "y = np.array(2.0)\n",
    "\n",
    "x + y, x - y, x * y, x / y, x ** y"
   ]
  },
  {
   "cell_type": "markdown",
   "metadata": {},
   "source": [
    "## Vectors"
   ]
  },
  {
   "cell_type": "markdown",
   "metadata": {},
   "source": [
    "Bạn có thể nghĩ đơn giản rằng vector là một danh sách các số vô hướng. Chúng tôi gọi đó là các phần tử của vector. Khi dùng vector để biểu diễn dữ liệu, giá trị của chúng thường liên quan tới những ý nghĩa cụ thể trong đời thực.\n",
    "Trong ký hiệu toán học, chúng tôi thường ký hiệu vector bằng các chữ cái thường, in đậm (vd: **x**, **y**, **z**).\n",
    "Chúng ta làm việc với vector thông qua những tensor một chiều. Các tensor có thể có độ dài bất kỳ, tùy theo giới hạn bộ nhớ trên máy tính của bạn."
   ]
  },
  {
   "cell_type": "code",
   "execution_count": 3,
   "metadata": {},
   "outputs": [
    {
     "data": {
      "text/plain": [
       "array([0, 1, 2, 3])"
      ]
     },
     "execution_count": 3,
     "metadata": {},
     "output_type": "execute_result"
    }
   ],
   "source": [
    "x = np.arange(4)\n",
    "x"
   ]
  },
  {
   "cell_type": "markdown",
   "metadata": {},
   "source": [
    "Ký hiệu $ x_{i} $ đại diện cho phần tử thứ i của vector **x**. Trong toán học, vector được viết như sau:"
   ]
  },
  {
   "cell_type": "markdown",
   "metadata": {},
   "source": [
    "\\begin{split}\\mathbf{x} =\\begin{bmatrix}x_{1}  \\\\x_{2}  \\\\ \\vdots  \\\\x_{n}\\end{bmatrix},\\end{split}"
   ]
  },
  {
   "cell_type": "markdown",
   "metadata": {},
   "source": [
    "trong đó $ x_1,...,x_n $ là các phần tử của vector. Trong code, ta có thể truy cập đến phần tử của vector thông qua chỉ số"
   ]
  },
  {
   "cell_type": "code",
   "execution_count": 4,
   "metadata": {},
   "outputs": [
    {
     "data": {
      "text/plain": [
       "3"
      ]
     },
     "execution_count": 4,
     "metadata": {},
     "output_type": "execute_result"
    }
   ],
   "source": [
    "x[3]"
   ]
  },
  {
   "cell_type": "markdown",
   "metadata": {},
   "source": [
    "Chiều dài của một vector là số phần tử trong vector đó"
   ]
  },
  {
   "cell_type": "code",
   "execution_count": 5,
   "metadata": {},
   "outputs": [
    {
     "data": {
      "text/plain": [
       "4"
      ]
     },
     "execution_count": 5,
     "metadata": {},
     "output_type": "execute_result"
    }
   ],
   "source": [
    "len(x)"
   ]
  },
  {
   "cell_type": "markdown",
   "metadata": {},
   "source": [
    "## Ma trận"
   ]
  },
  {
   "cell_type": "code",
   "execution_count": null,
   "metadata": {},
   "outputs": [],
   "source": []
  }
 ],
 "metadata": {
  "kernelspec": {
   "display_name": "Python 3",
   "language": "python",
   "name": "python3"
  },
  "language_info": {
   "codemirror_mode": {
    "name": "ipython",
    "version": 3
   },
   "file_extension": ".py",
   "mimetype": "text/x-python",
   "name": "python",
   "nbconvert_exporter": "python",
   "pygments_lexer": "ipython3",
   "version": "3.8.5"
  }
 },
 "nbformat": 4,
 "nbformat_minor": 4
}
