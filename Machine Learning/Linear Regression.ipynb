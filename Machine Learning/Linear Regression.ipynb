{
 "cells": [
  {
   "cell_type": "markdown",
   "metadata": {},
   "source": [
    "## Giới thiệu\n",
    "**Linear Regression**(hồi quy tuyến tính) là một trong những thuật toán cơ bản nhất (cũng như đơn giản nhất) của Machine Learning mà các bạn sẽ tìm hiểu khi bắt đầu học. Đây là một thuật toán dạng **Supervised Learning**(học có giám sát). Thuật toán này dùng để dự đoán kết quả "
   ]
  },
  {
   "cell_type": "code",
   "execution_count": 34,
   "metadata": {
    "scrolled": false
   },
   "outputs": [
    {
     "name": "stdout",
     "output_type": "stream",
     "text": [
      "[array([[46.464],\n",
      "       [51.456],\n",
      "       [48.083],\n",
      "       [46.346],\n",
      "       [42.71 ],\n",
      "       [49.377],\n",
      "       [43.128],\n",
      "       [56.753],\n",
      "       [58.91 ],\n",
      "       [41.503],\n",
      "       [53.752],\n",
      "       [45.867],\n",
      "       [47.041],\n",
      "       [57.768],\n",
      "       [32.131],\n",
      "       [32.614],\n",
      "       [30.607],\n",
      "       [54.979],\n",
      "       [53.345],\n",
      "       [56.1  ],\n",
      "       [59.359],\n",
      "       [53.975],\n",
      "       [43.844],\n",
      "       [53.416],\n",
      "       [33.548],\n",
      "       [49.198],\n",
      "       [34.301],\n",
      "       [58.34 ],\n",
      "       [45.655],\n",
      "       [42.44 ],\n",
      "       [37.937],\n",
      "       [53.227],\n",
      "       [43.685],\n",
      "       [47.053],\n",
      "       [30.564],\n",
      "       [48.529],\n",
      "       [48.363],\n",
      "       [48.508],\n",
      "       [58.312],\n",
      "       [50.455],\n",
      "       [40.785],\n",
      "       [43.111],\n",
      "       [50.929],\n",
      "       [31.807],\n",
      "       [50.003],\n",
      "       [50.119],\n",
      "       [36.311],\n",
      "       [33.868],\n",
      "       [39.463],\n",
      "       [40.911],\n",
      "       [47.106],\n",
      "       [43.158],\n",
      "       [59.651],\n",
      "       [33.061],\n",
      "       [36.266],\n",
      "       [34.839],\n",
      "       [49.593],\n",
      "       [37.599],\n",
      "       [43.989],\n",
      "       [37.333],\n",
      "       [34.769],\n",
      "       [33.311],\n",
      "       [49.69 ],\n",
      "       [34.145],\n",
      "       [35.897],\n",
      "       [41.062],\n",
      "       [54.63 ],\n",
      "       [32.913],\n",
      "       [55.138],\n",
      "       [32.883],\n",
      "       [59.294],\n",
      "       [44.06 ],\n",
      "       [59.303],\n",
      "       [48.145],\n",
      "       [52.178],\n",
      "       [31.176],\n",
      "       [38.484],\n",
      "       [33.606],\n",
      "       [38.884],\n",
      "       [33.562],\n",
      "       [39.539],\n",
      "       [42.428],\n",
      "       [31.924],\n",
      "       [50.774],\n",
      "       [46.998],\n",
      "       [37.962],\n",
      "       [45.697],\n",
      "       [32.818],\n",
      "       [47.278],\n",
      "       [57.879],\n",
      "       [39.557],\n",
      "       [50.022],\n",
      "       [33.954],\n",
      "       [51.49 ],\n",
      "       [38.682],\n",
      "       [35.496],\n",
      "       [47.595],\n",
      "       [30.603],\n",
      "       [54.868],\n",
      "       [30.141]]), array([[671.418],\n",
      "       [717.26 ],\n",
      "       [688.182],\n",
      "       [673.082],\n",
      "       [629.588],\n",
      "       [699.532],\n",
      "       [637.2  ],\n",
      "       [773.253],\n",
      "       [791.331],\n",
      "       [624.557],\n",
      "       [741.991],\n",
      "       [667.134],\n",
      "       [677.405],\n",
      "       [780.654],\n",
      "       [529.448],\n",
      "       [530.105],\n",
      "       [514.881],\n",
      "       [755.603],\n",
      "       [742.267],\n",
      "       [767.925],\n",
      "       [800.843],\n",
      "       [744.763],\n",
      "       [648.001],\n",
      "       [740.6  ],\n",
      "       [539.719],\n",
      "       [698.044],\n",
      "       [543.202],\n",
      "       [786.416],\n",
      "       [663.152],\n",
      "       [627.301],\n",
      "       [585.55 ],\n",
      "       [736.558],\n",
      "       [638.205],\n",
      "       [673.513],\n",
      "       [511.34 ],\n",
      "       [691.199],\n",
      "       [689.373],\n",
      "       [691.612],\n",
      "       [789.641],\n",
      "       [708.864],\n",
      "       [616.815],\n",
      "       [634.786],\n",
      "       [713.649],\n",
      "       [526.989],\n",
      "       [708.092],\n",
      "       [708.229],\n",
      "       [564.112],\n",
      "       [547.875],\n",
      "       [601.772],\n",
      "       [619.098],\n",
      "       [672.554],\n",
      "       [640.261],\n",
      "       [798.135],\n",
      "       [536.766],\n",
      "       [563.898],\n",
      "       [556.87 ],\n",
      "       [704.003],\n",
      "       [581.681],\n",
      "       [643.962],\n",
      "       [574.022],\n",
      "       [554.664],\n",
      "       [537.645],\n",
      "       [704.121],\n",
      "       [550.114],\n",
      "       [568.725],\n",
      "       [619.178],\n",
      "       [746.417],\n",
      "       [532.73 ],\n",
      "       [758.68 ],\n",
      "       [530.546],\n",
      "       [798.15 ],\n",
      "       [641.143],\n",
      "       [795.03 ],\n",
      "       [681.635],\n",
      "       [729.717],\n",
      "       [513.999],\n",
      "       [588.294],\n",
      "       [545.341],\n",
      "       [595.884],\n",
      "       [535.938],\n",
      "       [597.037],\n",
      "       [630.495],\n",
      "       [525.012],\n",
      "       [710.119],\n",
      "       [679.322],\n",
      "       [585.76 ],\n",
      "       [662.326],\n",
      "       [534.079],\n",
      "       [680.081],\n",
      "       [781.909],\n",
      "       [599.552],\n",
      "       [702.318],\n",
      "       [541.402],\n",
      "       [724.344],\n",
      "       [594.216],\n",
      "       [559.865],\n",
      "       [678.224],\n",
      "       [508.574],\n",
      "       [749.26 ],\n",
      "       [505.754]])]\n"
     ]
    }
   ],
   "source": [
    "import numpy as np\n",
    "import matplotlib.pyplot as plt\n",
    "\n",
    "# generate random data-set\n",
    "np.random.seed(0)\n",
    "x = np.round((np.random.rand(100,1) * 20 + 20) * 1.5, 3)\n",
    "y = np.round(200 + 10 * x + np.random.rand(100, 1) * 10, 3)\n",
    "\n",
    "print([x, y])"
   ]
  },
  {
   "cell_type": "code",
   "execution_count": 35,
   "metadata": {},
   "outputs": [
    {
     "data": {
      "text/plain": [
       "Text(0, 0.5, 'triệu VNĐ')"
      ]
     },
     "execution_count": 35,
     "metadata": {},
     "output_type": "execute_result"
    },
    {
     "data": {
      "image/png": "[encoded data removed]",
      "text/plain": [
       "<Figure size 432x288 with 1 Axes>"
      ]
     },
     "metadata": {
      "needs_background": "light"
     },
     "output_type": "display_data"
    }
   ],
   "source": [
    "# plot\n",
    "plt.scatter(x,y,s=10)\n",
    "plt.xlabel('m2')\n",
    "plt.ylabel('triệu VNĐ')"
   ]
  },
  {
   "cell_type": "code",
   "execution_count": 24,
   "metadata": {},
   "outputs": [
    {
     "name": "stdout",
     "output_type": "stream",
     "text": [
      "[2.89114079] [2.58109277] [0.0382041]\n"
     ]
    }
   ],
   "source": [
    "L = 0.05 # learning rate\n",
    "a = 0\n",
    "b = 0\n",
    "iterations = 1000\n",
    "m = len(x)\n",
    "cost_list = []\n",
    "\n",
    "for i in range(iterations):\n",
    "    prediction = a*x + b\n",
    "    \n",
    "    cost = (1/(2 * m)) * sum((prediction - y)**2)\n",
    "    cost_list.append(cost)\n",
    "    \n",
    "    a = a - (1/m) * L * sum((prediction - y) * x)\n",
    "    b = b - (1/m) * L * sum(prediction - y)\n",
    "print(a, b, cost_list[-1])"
   ]
  },
  {
   "cell_type": "code",
   "execution_count": 25,
   "metadata": {
    "scrolled": false
   },
   "outputs": [
    {
     "data": {
      "text/plain": [
       "[<matplotlib.lines.Line2D at 0x2b2f03f15b0>]"
      ]
     },
     "execution_count": 25,
     "metadata": {},
     "output_type": "execute_result"
    },
    {
     "data": {
      "image/png": "[encoded data removed]",
      "text/plain": [
       "<Figure size 432x288 with 1 Axes>"
      ]
     },
     "metadata": {
      "needs_background": "light"
     },
     "output_type": "display_data"
    }
   ],
   "source": [
    "plt.scatter(x,y,s=10)\n",
    "plt.xlabel('x')\n",
    "plt.ylabel('y')\n",
    "plt.plot(x, a*x + b)"
   ]
  },
  {
   "cell_type": "markdown",
   "metadata": {},
   "source": [
    "Cost function"
   ]
  },
  {
   "cell_type": "code",
   "execution_count": 26,
   "metadata": {},
   "outputs": [
    {
     "data": {
      "text/plain": [
       "[<matplotlib.lines.Line2D at 0x2b2f0445e80>]"
      ]
     },
     "execution_count": 26,
     "metadata": {},
     "output_type": "execute_result"
    },
    {
     "data": {
      "image/png": "[encoded data removed]",
      "text/plain": [
       "<Figure size 432x288 with 1 Axes>"
      ]
     },
     "metadata": {
      "needs_background": "light"
     },
     "output_type": "display_data"
    }
   ],
   "source": [
    "plt.plot(list(range(iterations)), cost_list, '-r')"
   ]
  }
 ],
 "metadata": {
  "kernelspec": {
   "display_name": "Python 3",
   "language": "python",
   "name": "python3"
  },
  "language_info": {
   "codemirror_mode": {
    "name": "ipython",
    "version": 3
   },
   "file_extension": ".py",
   "mimetype": "text/x-python",
   "name": "python",
   "nbconvert_exporter": "python",
   "pygments_lexer": "ipython3",
   "version": "3.8.5"
  }
 },
 "nbformat": 4,
 "nbformat_minor": 4
}
