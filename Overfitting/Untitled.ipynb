{
 "cells": [
  {
   "cell_type": "code",
   "execution_count": 10,
   "metadata": {},
   "outputs": [],
   "source": [
    "%matplotlib inline\n",
    "\n",
    "import numpy as np \n",
    "import matplotlib\n",
    "import matplotlib.pyplot as plt\n",
    "from sklearn import datasets, linear_model"
   ]
  },
  {
   "cell_type": "code",
   "execution_count": 11,
   "metadata": {},
   "outputs": [],
   "source": [
    "np.random.seed(4)\n",
    "\n",
    "N = 30\n",
    "N_test = 20\n",
    "X = np.random.rand(N, 1) * 5\n",
    "y = 3*(X - 2) * (X - 3) * (X - 4) + 10*np.random.randn(N, 1)\n",
    "\n",
    "X_test = (np.random.rand(N_test, 1) - 1/8) * 10\n",
    "y_test = 3*(X_test - 2) * (X_test - 3) * (X_test - 4) + 10*np.random.randn(N_test, 1)\n",
    "\n",
    "def buildX(X, d = 2):\n",
    "    res = np.ones((X.shape[0], 1))\n",
    "    for i in range(1, d+1):\n",
    "        res = np.concatenate((res, X**i), axis = 1)\n",
    "    return res\n",
    "\n",
    "def myfit(X, y, d):\n",
    "    Xbar = buildX(X, d)\n",
    "    regr = linear_model.LinearRegression(fit_intercept=False)\n",
    "    regr.fit(Xbar, y)\n",
    "    \n",
    "    w = regr.coef_\n",
    "    \n",
    "    w_0 = w[0][0]\n",
    "    w_1 = w[0][1]\n",
    "    x0 = np.linspace(-2, 7, 200, endpoint=True)\n",
    "    y0 = np.zeros_like(x0)\n",
    "    ytrue = 3*(x0 - 2)*(x0 - 3)*(x0 - 4)\n",
    "    for i in range(d+1):\n",
    "        y0 += w[0][i]*x0**i\n",
    "\n",
    "    # Draw the fitting line \n",
    "    plt.scatter(X.T, y.T, c = 'r', s = 40, label = 'Training samples')     # data \n",
    "    print(X_test.shape, y_test.shape)\n",
    "    plt.scatter(X_test.T, y_test.T, c = 'y', s = 40, label = 'Test samples')     # data \n",
    "    \n",
    "    plt.plot(x0, y0, 'b', linewidth = 2, label = \"Trained model\")   # the fitting line\n",
    "    plt.plot(x0, ytrue, 'g', linewidth = 2, label = \"True model\")   # the fitting line\n",
    "    plt.xticks([], [])\n",
    "    plt.yticks([], [])\n",
    "    \n",
    "    if d < 3:\n",
    "        str1 = 'Underfitting'\n",
    "    elif d > 4:\n",
    "        str1 = 'Overfitting'\n",
    "    else:\n",
    "        str1 = 'Good fit'\n",
    "    str0 = 'Degree = ' + str(d) + ': ' + str1\n",
    "    plt.title(str0)\n",
    "    plt.axis([-4, 10, np.amin(y_test) - 100, np.amax(y) + 100])\n"
   ]
  },
  {
   "cell_type": "code",
   "execution_count": 12,
   "metadata": {},
   "outputs": [
    {
     "name": "stdout",
     "output_type": "stream",
     "text": [
      "(20, 1) (20, 1)\n"
     ]
    },
    {
     "data": {
      "image/png": "[encoded data removed]",
      "text/plain": [
       "<Figure size 432x288 with 1 Axes>"
      ]
     },
     "metadata": {},
     "output_type": "display_data"
    }
   ],
   "source": [
    "myfit(X, y, 1)"
   ]
  }
 ],
 "metadata": {
  "kernelspec": {
   "display_name": "Python 3",
   "language": "python",
   "name": "python3"
  },
  "language_info": {
   "codemirror_mode": {
    "name": "ipython",
    "version": 3
   },
   "file_extension": ".py",
   "mimetype": "text/x-python",
   "name": "python",
   "nbconvert_exporter": "python",
   "pygments_lexer": "ipython3",
   "version": "3.8.5"
  }
 },
 "nbformat": 4,
 "nbformat_minor": 4
}
